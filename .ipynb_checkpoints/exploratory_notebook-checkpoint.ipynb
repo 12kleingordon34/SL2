{
 "cells": [
  {
   "cell_type": "markdown",
   "metadata": {},
   "source": [
    "# Coursework 2\n",
    "(core codebase to be imported as modules)"
   ]
  },
  {
   "cell_type": "code",
   "execution_count": 1,
   "metadata": {},
   "outputs": [],
   "source": [
    "import numpy as np\n",
    "from perceptron import Perceptron, KernelPerceptron\n",
    "from kernels import polynomial_kernel, radial_basis_kernel"
   ]
  },
  {
   "cell_type": "code",
   "execution_count": 2,
   "metadata": {},
   "outputs": [],
   "source": [
    "from utilities import preprocessing, train_test_split,y_encode,data_split"
   ]
  },
  {
   "cell_type": "code",
   "execution_count": 3,
   "metadata": {},
   "outputs": [],
   "source": [
    "data = np.loadtxt(\"zipcombo.dat\")"
   ]
  },
  {
   "cell_type": "markdown",
   "metadata": {},
   "source": [
    "This will be a one vs all scenario."
   ]
  },
  {
   "cell_type": "code",
   "execution_count": 18,
   "metadata": {},
   "outputs": [
    {
     "name": "stdout",
     "output_type": "stream",
     "text": [
      "[209.]\n"
     ]
    }
   ],
   "source": [
    "# first class is zero\n",
    "\n",
    "# matrix to hold predictions\n",
    "\n",
    "\n",
    "X,y = data_split(data,y_col=0)\n",
    "X_train,X_test,y_train,y_test = train_test_split(X,y)\n",
    "\n",
    "predictions = np.zeros((X_test.shape[0],10))\n",
    "\n",
    "\n",
    "y_train_i = y_encode(y_train,0)\n",
    "\n",
    "P = Perceptron() # quadratic kernel\n",
    "P.train(X_train,y_train_i)\n",
    "print(P.M)\n",
    "predictions[:,0] = P.predict_proba(X_test)"
   ]
  },
  {
   "cell_type": "code",
   "execution_count": 19,
   "metadata": {},
   "outputs": [
    {
     "name": "stdout",
     "output_type": "stream",
     "text": [
      "[-1  1 -1 -1 -1 -1 -1 -1 -1 -1]\n",
      "0\n",
      "[97.]\n",
      "[ 1 -1 -1 -1 -1  1 -1 -1 -1 -1]\n",
      "0\n",
      "[244.]\n",
      "[-1 -1 -1 -1 -1 -1 -1  1 -1 -1]\n",
      "0\n",
      "[286.]\n",
      "[-1 -1 -1  1  1 -1 -1 -1 -1 -1]\n",
      "0\n",
      "[301.]\n",
      "[-1 -1 -1 -1 -1 -1 -1 -1 -1 -1]\n",
      "0\n",
      "[302.]\n",
      "[-1 -1 -1 -1 -1 -1  1 -1 -1 -1]\n",
      "0\n",
      "[187.]\n",
      "[-1 -1 -1 -1 -1 -1 -1 -1 -1 -1]\n",
      "0\n",
      "[214.]\n",
      "[-1 -1  1 -1 -1 -1 -1 -1 -1 -1]\n",
      "0\n",
      "[314.]\n",
      "[-1 -1 -1 -1 -1 -1 -1 -1  1 -1]\n",
      "0\n",
      "[321.]\n"
     ]
    }
   ],
   "source": [
    "for i in range(1,10):\n",
    "    y_train_i = y_encode(y_train,i)\n",
    "    print(y_train_i[0:10])\n",
    "    P = Perceptron() # quadratic kernel\n",
    "    print(P.M)\n",
    "    P.train(X_train,y_train_i)\n",
    "    print(P.M)\n",
    "    predictions[:,i] = P.predict_proba(X_test)"
   ]
  },
  {
   "cell_type": "code",
   "execution_count": 20,
   "metadata": {},
   "outputs": [],
   "source": [
    "preds = np.argmax(predictions,axis=1)"
   ]
  },
  {
   "cell_type": "code",
   "execution_count": 9,
   "metadata": {},
   "outputs": [
    {
     "data": {
      "text/plain": [
       "(3100,)"
      ]
     },
     "execution_count": 9,
     "metadata": {},
     "output_type": "execute_result"
    }
   ],
   "source": [
    "preds.shape"
   ]
  },
  {
   "cell_type": "code",
   "execution_count": 21,
   "metadata": {},
   "outputs": [
    {
     "data": {
      "text/plain": [
       "array([7, 0, 1, 5, 1, 6, 6, 0, 9, 6, 0, 9, 0, 6, 0, 2, 4, 4, 0],\n",
       "      dtype=int64)"
      ]
     },
     "execution_count": 21,
     "metadata": {},
     "output_type": "execute_result"
    }
   ],
   "source": [
    "preds[1:20]"
   ]
  },
  {
   "cell_type": "code",
   "execution_count": 22,
   "metadata": {},
   "outputs": [
    {
     "data": {
      "text/plain": [
       "array([7., 0., 1., 5., 1., 6., 6., 0., 7., 6., 0., 9., 8., 6., 0., 2., 4.,\n",
       "       4., 0.])"
      ]
     },
     "execution_count": 22,
     "metadata": {},
     "output_type": "execute_result"
    }
   ],
   "source": [
    "y_test[1:20]"
   ]
  },
  {
   "cell_type": "code",
   "execution_count": null,
   "metadata": {},
   "outputs": [],
   "source": []
  }
 ],
 "metadata": {
  "kernelspec": {
   "display_name": "Python 3",
   "language": "python",
   "name": "python3"
  },
  "language_info": {
   "codemirror_mode": {
    "name": "ipython",
    "version": 3
   },
   "file_extension": ".py",
   "mimetype": "text/x-python",
   "name": "python",
   "nbconvert_exporter": "python",
   "pygments_lexer": "ipython3",
   "version": "3.6.5"
  }
 },
 "nbformat": 4,
 "nbformat_minor": 2
}
