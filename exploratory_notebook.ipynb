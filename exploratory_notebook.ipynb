{
 "cells": [
  {
   "cell_type": "markdown",
   "metadata": {},
   "source": [
    "# Coursework 2\n",
    "(core codebase to be imported as modules)"
   ]
  },
  {
   "cell_type": "code",
   "execution_count": 1,
   "metadata": {},
   "outputs": [],
   "source": [
    "import numpy as np\n",
    "from perceptron import Perceptron, KernelPerceptron\n",
    "from kernels import polynomial_kernel, radial_basis_kernel"
   ]
  },
  {
   "cell_type": "code",
   "execution_count": 2,
   "metadata": {
    "collapsed": false
   },
   "outputs": [],
   "source": [
    "# Loading Data\n",
    "data = np.loadtxt(\"dtrain123.dat\")\n",
    "y = data[:, 0]\n",
    "X = data[:, 1:]"
   ]
  },
  {
   "cell_type": "code",
   "execution_count": 3,
   "metadata": {
    "collapsed": false
   },
   "outputs": [],
   "source": [
    "# Build test XOR dataset\n",
    "a = np.array([[1,1], [-1,-1], [-1,1], [1,-1]])\n",
    "b = np.array([1,1,-1,-1])"
   ]
  },
  {
   "cell_type": "code",
   "execution_count": 4,
   "metadata": {
    "collapsed": false
   },
   "outputs": [
    {
     "data": {
      "text/plain": [
       "array([ 0.,  0.,  0.,  0.])"
      ]
     },
     "execution_count": 4,
     "metadata": {},
     "output_type": "execute_result"
    }
   ],
   "source": [
    "# Run for regular unkernalised perceptron\n",
    "p = Perceptron()\n",
    "p.train(a, b)\n",
    "p.predict(a)"
   ]
  },
  {
   "cell_type": "code",
   "execution_count": 5,
   "metadata": {
    "collapsed": false
   },
   "outputs": [
    {
     "data": {
      "text/plain": [
       "array([ 4.,  4., -8., -8.])"
      ]
     },
     "execution_count": 5,
     "metadata": {},
     "output_type": "execute_result"
    }
   ],
   "source": [
    "# Run for 2-order polynomial kernel\n",
    "p_2 = KernelPerceptron(polynomial_kernel, 2)\n",
    "p_2.train(a,b)\n",
    "p_2.predict_proba(a)"
   ]
  },
  {
   "cell_type": "code",
   "execution_count": 6,
   "metadata": {
    "collapsed": false
   },
   "outputs": [
    {
     "data": {
      "text/plain": [
       "array([[4, 4, 0, 0],\n",
       "       [4, 4, 0, 0],\n",
       "       [0, 0, 4, 4],\n",
       "       [0, 0, 4, 4]])"
      ]
     },
     "execution_count": 6,
     "metadata": {},
     "output_type": "execute_result"
    }
   ],
   "source": [
    "p_2.gram"
   ]
  },
  {
   "cell_type": "markdown",
   "metadata": {},
   "source": [
    "## Test for differentiating between 1s and 3s"
   ]
  },
  {
   "cell_type": "code",
   "execution_count": 7,
   "metadata": {
    "collapsed": false
   },
   "outputs": [
    {
     "name": "stdout",
     "output_type": "stream",
     "text": [
      "120 70\n"
     ]
    }
   ],
   "source": [
    "idx = y!=2\n",
    "X_z = X[idx,:]\n",
    "y_z = y[idx]\n",
    "y_z = (y_z == 1).astype(int) - (y_z == 3).astype(int)\n",
    "n_1 = sum(y==1)\n",
    "n_3 = sum(y==3)\n",
    "print(n_1, n_3)"
   ]
  },
  {
   "cell_type": "markdown",
   "metadata": {},
   "source": [
    "### Regular perceptron"
   ]
  },
  {
   "cell_type": "code",
   "execution_count": 8,
   "metadata": {
    "collapsed": false
   },
   "outputs": [],
   "source": [
    "p = Perceptron()\n",
    "p.train(X_z, y_z)"
   ]
  },
  {
   "cell_type": "markdown",
   "metadata": {},
   "outputs": [],
   "source": [
    "from utilities import preprocessing, train_test_split,y_encode,data_split"
   ]
  },
  {
   "cell_type": "code",
   "execution_count": 3,
   "metadata": {},
   "outputs": [],
   "source": [
    "data = np.loadtxt(\"zipcombo.dat\")"
   ]
  },
  {
   "cell_type": "markdown",
   "metadata": {},
   "source": [
    "This will be a one vs all scenario."
   ]
  },
  {
   "cell_type": "code",
   "execution_count": 18,
   "metadata": {},
   "outputs": [
    {
     "name": "stdout",
     "output_type": "stream",
     "text": [
      "[209.]\n"
     ]
    }
   ],
   "source": [
    "# first class is zero\n",
    "\n",
    "# matrix to hold predictions\n",
    "\n",
    "\n",
    "X,y = data_split(data,y_col=0)\n",
    "X_train,X_test,y_train,y_test = train_test_split(X,y)\n",
    "\n",
    "predictions = np.zeros((X_test.shape[0],10))\n",
    "\n",
    "\n",
    "y_train_i = y_encode(y_train,0)\n",
    "\n",
    "P = Perceptron() # quadratic kernel\n",
    "P.train(X_train,y_train_i)\n",
    "print(P.M)\n",
    "predictions[:,0] = P.predict_proba(X_test)"
   ]
  },
  {
   "cell_type": "code",
   "execution_count": 19,
   "metadata": {},
   "outputs": [
    {
     "name": "stdout",
     "output_type": "stream",
     "text": [
      "[-1  1 -1 -1 -1 -1 -1 -1 -1 -1]\n",
      "0\n",
      "[97.]\n",
      "[ 1 -1 -1 -1 -1  1 -1 -1 -1 -1]\n",
      "0\n",
      "[244.]\n",
      "[-1 -1 -1 -1 -1 -1 -1  1 -1 -1]\n",
      "0\n",
      "[286.]\n",
      "[-1 -1 -1  1  1 -1 -1 -1 -1 -1]\n",
      "0\n",
      "[301.]\n",
      "[-1 -1 -1 -1 -1 -1 -1 -1 -1 -1]\n",
      "0\n",
      "[302.]\n",
      "[-1 -1 -1 -1 -1 -1  1 -1 -1 -1]\n",
      "0\n",
      "[187.]\n",
      "[-1 -1 -1 -1 -1 -1 -1 -1 -1 -1]\n",
      "0\n",
      "[214.]\n",
      "[-1 -1  1 -1 -1 -1 -1 -1 -1 -1]\n",
      "0\n",
      "[314.]\n",
      "[-1 -1 -1 -1 -1 -1 -1 -1  1 -1]\n",
      "0\n",
      "[321.]\n"
     ]
    }
   ],
   "source": [
    "for i in range(1,10):\n",
    "    y_train_i = y_encode(y_train,i)\n",
    "    print(y_train_i[0:10])\n",
    "    P = Perceptron() # quadratic kernel\n",
    "    print(P.M)\n",
    "    P.train(X_train,y_train_i)\n",
    "    print(P.M)\n",
    "    predictions[:,i] = P.predict_proba(X_test)"
   ]
  },
  {
   "cell_type": "code",
   "execution_count": 20,
   "metadata": {},
   "outputs": [],
   "source": [
    "preds = np.argmax(predictions,axis=1)"
   ]
  },
  {
   "cell_type": "code",
   "execution_count": 9,

   "metadata": {},
   "outputs": [
    {
     "data": {
      "text/plain": [
       "(3100,)"
      ]
     },
     "execution_count": 9,
     "metadata": {},
     "output_type": "execute_result"
    }
   ],
   "source": [
    "preds.shape"
   ]
  },
  {
   "cell_type": "code",
   "execution_count": 21,
   "metadata": {},

   "outputs": [
    {
     "data": {
      "text/plain": [

       "1.0"
      ]
     },
     "execution_count": 9,

     "metadata": {},
     "output_type": "execute_result"
    }
   ],
   "source": [

    "p.predict(X_z).dot(y_z)/len(y_z)"
   ]
  },
  {
   "cell_type": "code",
   "execution_count": 10,
   "metadata": {
    "collapsed": false
   },
   "outputs": [
    {
     "data": {
      "text/plain": [
       "190.0"
      ]
     },
     "execution_count": 10,
     "metadata": {},
     "output_type": "execute_result"
    }
   ],
   "source": [
    "p.predict(X_z).dot(y_z)"
   ]
  },
  {
   "cell_type": "code",
   "execution_count": 11,
   "metadata": {
    "collapsed": false
   },
   "outputs": [
    {
     "data": {
      "text/plain": [
       "(190, 256)"
      ]
     },
     "execution_count": 11,
     "metadata": {},
     "output_type": "execute_result"
    }
   ],
   "source": [
    "X_z.shape"
   ]
  },
  {
   "cell_type": "code",
   "execution_count": 12,
   "metadata": {
    "collapsed": false
   },
   "outputs": [
    {
     "name": "stdout",
     "output_type": "stream",
     "text": [
      "1 : 0.6842105263157895\n",
      "2 : 0.8526315789473684\n",
      "3 : 0.9263157894736842\n",
      "4 : 1.0\n"
     ]
    }
   ],
   "source": [
    "### Polynomial Kernel\n",
    "for d in range(1,5):\n",
    "    p_k = KernelPerceptron(kernel=polynomial_kernel, k_params=d)\n",
    "    p_k.train(X_z, y_z)\n",
    "    error = p_k.predict(X_z).dot(y_z)/len(y_z)\n",
    "    print(\"{} : {}\".format(d, error))"
   ]
  },
  {
   "cell_type": "code",
   "execution_count": 22,
   "metadata": {},
   "outputs": [
    {
     "data": {
      "text/plain": [
       "array([7., 0., 1., 5., 1., 6., 6., 0., 7., 6., 0., 9., 8., 6., 0., 2., 4.,\n",
       "       4., 0.])"
      ]
     },
     "execution_count": 22,
     "metadata": {},
     "output_type": "execute_result"
    }
   ],
   "source": [
    "y_test[1:20]"
   ]
  },
  {
   "cell_type": "code",
   "execution_count": null,
   "metadata": {},
   "outputs": [],
   "source": []
  }
 ],
 "metadata": {
  "kernelspec": {
   "display_name": "Python 3",
   "language": "python",
   "name": "python3"
  },
  "language_info": {
   "codemirror_mode": {
    "name": "ipython",
    "version": 3
   },
   "file_extension": ".py",
   "mimetype": "text/x-python",
   "name": "python",
   "nbconvert_exporter": "python",
   "pygments_lexer": "ipython3",
   "version": "3.6.0"
  }
 },
 "nbformat": 4,
 "nbformat_minor": 2
}
