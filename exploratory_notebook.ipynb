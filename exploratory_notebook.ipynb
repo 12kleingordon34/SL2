{
 "cells": [
  {
   "cell_type": "markdown",
   "metadata": {},
   "source": [
    "# Coursework 2\n",
    "(core codebase to be imported as modules)"
   ]
  },
  {
   "cell_type": "code",
   "execution_count": 1,
   "metadata": {
    "collapsed": true
   },
   "outputs": [],
   "source": [
    "import numpy as np\n",
    "\n",
    "from perceptron import Perceptron, KernelPerceptron\n",
    "from kernels import polynomial_kernel, radial_basis_kernel\n",
    "from utilities import train_test_split, data_split, y_encode"
   ]
  },
  {
   "cell_type": "code",
   "execution_count": 2,
   "metadata": {
    "collapsed": false
   },
   "outputs": [],
   "source": [
    "# Loading Data\n",
    "data = np.loadtxt(\"dtrain123.dat\")\n",
    "y = data[:, 0]\n",
    "X = data[:, 1:]"
   ]
  },
  {
   "cell_type": "code",
   "execution_count": 3,
   "metadata": {
    "collapsed": false
   },
   "outputs": [],
   "source": [
    "# Build test XOR dataset\n",
    "a = np.array([[1,1], [-1,-1], [-1,1], [1,-1]])\n",
    "b = np.array([1,1,-1,-1])"
   ]
  },
  {
   "cell_type": "code",
   "execution_count": 4,
   "metadata": {
    "collapsed": false
   },
   "outputs": [
    {
     "data": {
      "text/plain": [
       "array([ 0.,  0.,  0.,  0.])"
      ]
     },
     "execution_count": 4,
     "metadata": {},
     "output_type": "execute_result"
    }
   ],
   "source": [
    "# Run for regular unkernalised perceptron\n",
    "p = Perceptron()\n",
    "p.train(a, b)\n",
    "p.predict(a)"
   ]
  },
  {
   "cell_type": "code",
   "execution_count": 5,
   "metadata": {
    "collapsed": false
   },
   "outputs": [
    {
     "data": {
      "text/plain": [
       "array([ 4.,  4., -4., -4.])"
      ]
     },
     "execution_count": 5,
     "metadata": {},
     "output_type": "execute_result"
    }
   ],
   "source": [
    "# Run for 2-order polynomial kernel\n",
    "p_2 = KernelPerceptron(polynomial_kernel, 2)\n",
    "p_2.train(a,b)\n",
    "p_2.predict_proba(a)"
   ]
  },
  {
   "cell_type": "code",
   "execution_count": 6,
   "metadata": {
    "collapsed": false
   },
   "outputs": [
    {
     "data": {
      "text/plain": [
       "array([[4, 4, 0, 0],\n",
       "       [4, 4, 0, 0],\n",
       "       [0, 0, 4, 4],\n",
       "       [0, 0, 4, 4]])"
      ]
     },
     "execution_count": 6,
     "metadata": {},
     "output_type": "execute_result"
    }
   ],
   "source": [
    "p_2.gram"
   ]
  },
  {
   "cell_type": "markdown",
   "metadata": {},
   "source": [
    "## Test for differentiating between 1s and 3s"
   ]
  },
  {
   "cell_type": "code",
   "execution_count": 7,
   "metadata": {
    "collapsed": false
   },
   "outputs": [
    {
     "name": "stdout",
     "output_type": "stream",
     "text": [
      "120 70\n"
     ]
    }
   ],
   "source": [
    "idx = y!=2\n",
    "X_z = X[idx,:]\n",
    "y_z = y[idx]\n",
    "y_z = (y_z == 1).astype(int) - (y_z == 3).astype(int)\n",
    "n_1 = sum(y==1)\n",
    "n_3 = sum(y==3)\n",
    "print(n_1, n_3)"
   ]
  },
  {
   "cell_type": "markdown",
   "metadata": {},
   "source": [
    "### Regular perceptron"
   ]
  },
  {
   "cell_type": "code",
   "execution_count": 8,
   "metadata": {
    "collapsed": false
   },
   "outputs": [],
   "source": [
    "p = Perceptron()\n",
    "p.train(X_z, y_z)"
   ]
  },
  {
   "cell_type": "code",
   "execution_count": 10,
   "metadata": {
    "collapsed": false
   },
   "outputs": [
    {
     "data": {
      "text/plain": [
       "1.0"
      ]
     },
     "execution_count": 10,
     "metadata": {},
     "output_type": "execute_result"
    }
   ],
   "source": [
    "p.predict(X_z).dot(y_z)/len(y_z)"
   ]
  },
  {
   "cell_type": "code",
   "execution_count": 11,
   "metadata": {
    "collapsed": false
   },
   "outputs": [
    {
     "data": {
      "text/plain": [
       "190.0"
      ]
     },
     "execution_count": 11,
     "metadata": {},
     "output_type": "execute_result"
    }
   ],
   "source": [
    "p.predict(X_z).dot(y_z)"
   ]
  },
  {
   "cell_type": "code",
   "execution_count": 12,
   "metadata": {
    "collapsed": false
   },
   "outputs": [
    {
     "data": {
      "text/plain": [
       "(190, 256)"
      ]
     },
     "execution_count": 12,
     "metadata": {},
     "output_type": "execute_result"
    }
   ],
   "source": [
    "X_z.shape"
   ]
  },
  {
   "cell_type": "code",
   "execution_count": 13,
   "metadata": {
    "collapsed": false
   },
   "outputs": [
    {
     "name": "stdout",
     "output_type": "stream",
     "text": [
      "1 : 1.0\n",
      "2 : 1.0\n",
      "3 : 1.0\n",
      "4 : 1.0\n"
     ]
    }
   ],
   "source": [
    "### Polynomial Kernel\n",
    "for d in range(1,5):\n",
    "    p_k = KernelPerceptron(kernel=polynomial_kernel, k_params=d)\n",
    "    p_k.train(X_z, y_z)\n",
    "    error = p_k.predict(X_z).dot(y_z)/len(y_z)\n",
    "    print(\"{} : {}\".format(d, error))"
   ]
  },
  {
   "cell_type": "markdown",
   "metadata": {},
   "source": [
    "## DT's code"
   ]
  },
  {
   "cell_type": "markdown",
   "metadata": {},
   "source": [
    "from utilities import preprocessing, train_test_split,y_encode,data_split"
   ]
  },
  {
   "cell_type": "code",
   "execution_count": 26,
   "metadata": {
    "collapsed": true
   },
   "outputs": [],
   "source": [
    "import matplotlib.pyplot as plt\n",
    "import pandas as pd"
   ]
  },
  {
   "cell_type": "code",
   "execution_count": 38,
   "metadata": {
    "collapsed": true
   },
   "outputs": [],
   "source": []
  },
  {
   "cell_type": "code",
   "execution_count": 44,
   "metadata": {
    "collapsed": false,
    "scrolled": false
   },
   "outputs": [
    {
     "data": {
      "image/png": "[encoded data removed]",
      "text/plain": [
       "<matplotlib.figure.Figure at 0x1168b9080>"
      ]
     },
     "metadata": {},
     "output_type": "display_data"
    }
   ],
   "source": [
    "df = pd.read_csv('lr_tol_variable_selection.csv', header=None)\n",
    "mean = df.mean(0)\n",
    "std = df.std(0)\n",
    "%matplotlib inline\n",
    "fig = plt.figure(figsize=(10,6))\n",
    "# plt.plot(range(1, 11)*0.001, mean)\n",
    "x = [f*0.001 for f in range(1, 21, 2)]\n",
    "plt.errorbar(x,mean,yerr=std, fmt='b')\n",
    "plt.xlabel('Tolerance', fontsize=18)\n",
    "plt.ylabel('Accuracy', fontsize=16)\n",
    "plt.xticks(np.arange(0.001, 0.019, 0.002));"
   ]
  },
  {
   "cell_type": "code",
   "execution_count": 99,
   "metadata": {
    "collapsed": false
   },
   "outputs": [
    {
     "data": {
      "image/png": "[encoded data removed]",
      "text/plain": [
       "<matplotlib.figure.Figure at 0x1175bb550>"
      ]
     },
     "metadata": {},
     "output_type": "display_data"
    }
   ],
   "source": [
    "df = pd.read_csv('lr_tol_variable_selection.csv', header=None)\n",
    "mean = df.mean(0)\n",
    "std = df.std(0)\n",
    "%matplotlib inline\n",
    "fig = plt.figure(figsize=(10,6))\n",
    "# plt.plot(range(1, 11)*0.001, mean)\n",
    "x = [f*0.001 for f in range(1, 21, 2)]\n",
    "plt.errorbar(x,mean,yerr=std, fmt='b')\n",
    "plt.xlabel('Tolerance', fontsize=18)\n",
    "plt.ylabel('Accuracy', fontsize=16)\n",
    "plt.xticks(np.arange(0.001, 0.019, 0.002));"
   ]
  },
  {
   "cell_type": "code",
   "execution_count": 107,
   "metadata": {
    "collapsed": false
   },
   "outputs": [],
   "source": [
    "# reg_list = [2**(-i) for i in range(1, 11)]\n",
    "# header= [\"log2(-{})\".format(i) for i in range(1, 11)]\n",
    "df = pd.read_csv('lr_reg_variable_selection.csv', header=None)"
   ]
  },
  {
   "cell_type": "code",
   "execution_count": 108,
   "metadata": {
    "collapsed": false
   },
   "outputs": [
    {
     "data": {
      "text/html": [
       "<div>\n",
       "<table border=\"1\" class=\"dataframe\">\n",
       "  <thead>\n",
       "    <tr style=\"text-align: right;\">\n",
       "      <th></th>\n",
       "      <th>0</th>\n",
       "      <th>1</th>\n",
       "      <th>2</th>\n",
       "      <th>3</th>\n",
       "      <th>4</th>\n",
       "      <th>5</th>\n",
       "      <th>6</th>\n",
       "      <th>7</th>\n",
       "      <th>8</th>\n",
       "      <th>9</th>\n",
       "      <th>10</th>\n",
       "      <th>11</th>\n",
       "      <th>12</th>\n",
       "      <th>13</th>\n",
       "    </tr>\n",
       "  </thead>\n",
       "  <tbody>\n",
       "    <tr>\n",
       "      <th>0</th>\n",
       "      <td>0.801755</td>\n",
       "      <td>0.865245</td>\n",
       "      <td>0.886679</td>\n",
       "      <td>0.897147</td>\n",
       "      <td>0.908439</td>\n",
       "      <td>0.917257</td>\n",
       "      <td>0.922922</td>\n",
       "      <td>0.924605</td>\n",
       "      <td>0.924531</td>\n",
       "      <td>0.924997</td>\n",
       "      <td>0.925140</td>\n",
       "      <td>0.925248</td>\n",
       "      <td>0.92489</td>\n",
       "      <td>0.924961</td>\n",
       "    </tr>\n",
       "    <tr>\n",
       "      <th>1</th>\n",
       "      <td>0.008421</td>\n",
       "      <td>0.010815</td>\n",
       "      <td>0.006369</td>\n",
       "      <td>0.008743</td>\n",
       "      <td>0.006601</td>\n",
       "      <td>0.006528</td>\n",
       "      <td>0.006508</td>\n",
       "      <td>0.006075</td>\n",
       "      <td>0.006350</td>\n",
       "      <td>0.006808</td>\n",
       "      <td>0.007197</td>\n",
       "      <td>0.007013</td>\n",
       "      <td>0.00662</td>\n",
       "      <td>0.006667</td>\n",
       "    </tr>\n",
       "  </tbody>\n",
       "</table>\n",
       "</div>"
      ],
      "text/plain": [
       "         0         1         2         3         4         5         6   \\\n",
       "0  0.801755  0.865245  0.886679  0.897147  0.908439  0.917257  0.922922   \n",
       "1  0.008421  0.010815  0.006369  0.008743  0.006601  0.006528  0.006508   \n",
       "\n",
       "         7         8         9         10        11       12        13  \n",
       "0  0.924605  0.924531  0.924997  0.925140  0.925248  0.92489  0.924961  \n",
       "1  0.006075  0.006350  0.006808  0.007197  0.007013  0.00662  0.006667  "
      ]
     },
     "execution_count": 108,
     "metadata": {},
     "output_type": "execute_result"
    }
   ],
   "source": [
    "df"
   ]
  },
  {
   "cell_type": "code",
   "execution_count": 111,
   "metadata": {
    "collapsed": false
   },
   "outputs": [
    {
     "data": {
      "text/plain": [
       "<matplotlib.text.Text at 0x1178c8780>"
      ]
     },
     "execution_count": 111,
     "metadata": {},
     "output_type": "execute_result"
    },
    {
     "data": {
      "image/png": "[encoded data removed]",
      "text/plain": [
       "<matplotlib.figure.Figure at 0x11779ba58>"
      ]
     },
     "metadata": {},
     "output_type": "display_data"
    }
   ],
   "source": [
    "x = [i for i in range(1, 15)]\n",
    "fig = plt.figure(figsize=(10,6))\n",
    "plt.errorbar(x,df.iloc[0, :],yerr=df.iloc[1, :], fmt='b')\n",
    "plt.xlabel('-Log2(lambda)', fontsize=18)\n",
    "plt.ylabel('Accuracy', fontsize=16)"
   ]
  },
  {
   "cell_type": "code",
   "execution_count": 97,
   "metadata": {
    "collapsed": false
   },
   "outputs": [],
   "source": [
    "z= np.zeros((3,3))"
   ]
  },
  {
   "cell_type": "code",
   "execution_count": 98,
   "metadata": {
    "collapsed": false
   },
   "outputs": [],
   "source": [
    "np.savetxt('test.csv', z, delimiter=',', fmt='%10.20f')"
   ]
  },
  {
   "cell_type": "code",
   "execution_count": 102,
   "metadata": {
    "collapsed": false
   },
   "outputs": [
    {
     "name": "stdout",
     "output_type": "stream",
     "text": [
      "total 39736\r\n",
      "-rw-r--r--  1 danielmanela  staff      4228 16 Dec 19:45 main_lr_test.py\r\n",
      "-rw-r--r--  1 danielmanela  staff      4830 16 Dec 19:44 lr_reg_variable_selection.csv\r\n",
      "-rw-r--r--  1 danielmanela  staff     75940 16 Dec 19:36 exploratory_notebook.ipynb\r\n",
      "-rw-r--r--  1 danielmanela  staff       207 16 Dec 19:35 test.csv\r\n",
      "drwxr-xr-x  6 danielmanela  staff       192 16 Dec 19:13 \u001b[1m\u001b[34m__pycache__\u001b[m\u001b[m\r\n",
      "-rw-r--r--  1 danielmanela  staff      3060 16 Dec 19:06 logistic_regression.py\r\n",
      "-rw-r--r--  1 danielmanela  staff      1150 16 Dec 18:46 lr_tol_variable_selection_w_reg_0.1.csv\r\n",
      "-rw-r--r--  1 danielmanela  staff      1150 16 Dec 18:26 lr_tol_variable_selection_w_reg_0.5.csv\r\n",
      "-rw-r--r--  1 danielmanela  staff      1150 16 Dec 18:25 lr_tol_variable_selection_w_reg_0.0.csv\r\n",
      "-rw-r--r--  1 danielmanela  staff      1150 16 Dec 18:24 lr_tol_variable_selection_w_reg_0.2.csv\r\n",
      "-rw-r--r--  1 danielmanela  staff      1150 16 Dec 18:22 lr_tol_variable_selection_w_reg_1.csv\r\n",
      "-rw-r--r--  1 danielmanela  staff      1150 16 Dec 18:20 lr_tol_variable_selection_w_reg.csv\r\n",
      "-rw-r--r--  1 danielmanela  staff      1150 16 Dec 17:15 lr_tol_variable_selection.csv\r\n",
      "-rw-r--r--  1 danielmanela  staff      5211 16 Dec 15:18 utilities.py\r\n",
      "-rw-r--r--  1 danielmanela  staff      3381 16 Dec 15:18 q1_train_errors_gauss.csv\r\n",
      "-rw-r--r--  1 danielmanela  staff      3381 16 Dec 15:18 q1_train_errors.csv\r\n",
      "-rw-r--r--  1 danielmanela  staff      3381 16 Dec 15:18 q1_test_errors_gauss.csv\r\n",
      "-rw-r--r--  1 danielmanela  staff      3381 16 Dec 15:18 q1_test_errors.csv\r\n",
      "-rw-r--r--  1 danielmanela  staff      3538 16 Dec 15:18 perceptron.py\r\n",
      "-rw-r--r--  1 danielmanela  staff      4245 16 Dec 15:18 main_poly.py\r\n",
      "-rw-r--r--  1 danielmanela  staff      4258 16 Dec 15:18 main_gauss.py\r\n",
      "-rw-r--r--  1 danielmanela  staff      3239 16 Dec 15:18 lrtest2.py\r\n",
      "-rw-r--r--  1 danielmanela  staff      1380 16 Dec 15:18 d_prime_errors_gauss.csv\r\n",
      "-rw-r--r--  1 danielmanela  staff      1380 16 Dec 15:18 d_prime_errors.csv\r\n",
      "-rw-r--r--  1 danielmanela  staff     10156 16 Dec 15:18 confusion_gauss.csv\r\n",
      "-rw-r--r--  1 danielmanela  staff      3896 16 Dec 15:18 confusion.csv\r\n",
      "-rw-r--r--  1 danielmanela  staff      3628  2 Dec 10:20 lrtest.py\r\n",
      "-rw-r--r--  1 danielmanela  staff      1004  1 Dec 00:47 kernels.py\r\n",
      "-rw-r--r--  1 danielmanela  staff      5537 29 Nov 15:01 full_errors.csv\r\n",
      "-rw-r--r--  1 danielmanela  staff       322 29 Nov 15:01 d_errors.csv\r\n",
      "-rw-r--r--  1 danielmanela  staff       230 28 Nov 21:20 array.csv\r\n",
      "-rw-r--r--  1 danielmanela  staff      1587 28 Nov 20:51 naive_bayes.py\r\n",
      "-rw-r--r--  1 danielmanela  staff       709 28 Nov 20:51 knn.py\r\n",
      "-rw-r--r--  1 danielmanela  staff       775 27 Nov 12:16 README.md\r\n",
      "-rw-r--r--  1 danielmanela  staff  18500363 26 Nov 22:10 zipcombo.dat\r\n",
      "-rw-r--r--  1 danielmanela  staff       716 26 Nov 19:00 winnow.py\r\n",
      "-rw-r--r--  1 danielmanela  staff    555910 26 Nov 19:00 dtrain123.dat\r\n",
      "-rw-r--r--  1 danielmanela  staff    768886 26 Nov 19:00 dtest123.dat\r\n",
      "-rw-r--r--  1 danielmanela  staff    266450 25 Nov 10:22 CW2_19v1.pdf\r\n"
     ]
    }
   ],
   "source": [
    "!ls -lt"
   ]
  },
  {
   "cell_type": "code",
   "execution_count": null,
   "metadata": {
    "collapsed": true
   },
   "outputs": [],
   "source": []
  }
 ],
 "metadata": {
  "kernelspec": {
   "display_name": "Python 3",
   "language": "python",
   "name": "python3"
  },
  "language_info": {
   "codemirror_mode": {
    "name": "ipython",
    "version": 3
   },
   "file_extension": ".py",
   "mimetype": "text/x-python",
   "name": "python",
   "nbconvert_exporter": "python",
   "pygments_lexer": "ipython3",
   "version": "3.6.0"
  }
 },
 "nbformat": 4,
 "nbformat_minor": 2
}
