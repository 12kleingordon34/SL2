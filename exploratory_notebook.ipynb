{
 "cells": [
  {
   "cell_type": "markdown",
   "metadata": {},
   "source": [
    "# Coursework 2\n",
    "(core codebase to be imported as modules)"
   ]
  },
  {
   "cell_type": "code",
   "execution_count": 1,
   "metadata": {
    "collapsed": false
   },
   "outputs": [],
   "source": [
    "import numpy as np\n",
    "\n",
    "from kernels import polynomial_kernel\n",
    "from perceptron import Perceptron, KernelPerceptron"
   ]
  },
  {
   "cell_type": "code",
   "execution_count": 2,
   "metadata": {
    "collapsed": false
   },
   "outputs": [],
   "source": [
    "# Loading Data\n",
    "data = np.loadtxt(\"dtrain123.dat\")\n",
    "y = data[:, 0]\n",
    "X = data[:, 1:]"
   ]
  },
  {
   "cell_type": "code",
   "execution_count": 3,
   "metadata": {
    "collapsed": false
   },
   "outputs": [],
   "source": [
    "# Build test XOR dataset\n",
    "a = np.array([[1,1], [-1,-1], [-1,1], [1,-1]])\n",
    "b = np.array([1,1,-1,-1])"
   ]
  },
  {
   "cell_type": "code",
   "execution_count": 4,
   "metadata": {
    "collapsed": false
   },
   "outputs": [
    {
     "data": {
      "text/plain": [
       "array([ 0.,  0.,  0.,  0.])"
      ]
     },
     "execution_count": 4,
     "metadata": {},
     "output_type": "execute_result"
    }
   ],
   "source": [
    "# Run for regular unkernalised perceptron\n",
    "p = Perceptron()\n",
    "p.train(a, b)\n",
    "p.predict(a)"
   ]
  },
  {
   "cell_type": "code",
   "execution_count": 5,
   "metadata": {
    "collapsed": false
   },
   "outputs": [
    {
     "data": {
      "text/plain": [
       "array([ 4.,  4., -8., -8.])"
      ]
     },
     "execution_count": 5,
     "metadata": {},
     "output_type": "execute_result"
    }
   ],
   "source": [
    "# Run for 2-order polynomial kernel\n",
    "p_2 = KernelPerceptron(polynomial_kernel, 2)\n",
    "p_2.train(a,b)\n",
    "p_2.predict_proba(a)"
   ]
  },
  {
   "cell_type": "code",
   "execution_count": 6,
   "metadata": {
    "collapsed": false
   },
   "outputs": [
    {
     "data": {
      "text/plain": [
       "array([[4, 4, 0, 0],\n",
       "       [4, 4, 0, 0],\n",
       "       [0, 0, 4, 4],\n",
       "       [0, 0, 4, 4]])"
      ]
     },
     "execution_count": 6,
     "metadata": {},
     "output_type": "execute_result"
    }
   ],
   "source": [
    "p_2.gram"
   ]
  },
  {
   "cell_type": "markdown",
   "metadata": {},
   "source": [
    "## Test for differentiating between 1s and 3s"
   ]
  },
  {
   "cell_type": "code",
   "execution_count": 7,
   "metadata": {
    "collapsed": false
   },
   "outputs": [
    {
     "name": "stdout",
     "output_type": "stream",
     "text": [
      "120 70\n"
     ]
    }
   ],
   "source": [
    "idx = y!=2\n",
    "X_z = X[idx,:]\n",
    "y_z = y[idx]\n",
    "n_1 = sum(y==1)\n",
    "n_3 = sum(y==3)\n",
    "print(n_1, n_3)"
   ]
  },
  {
   "cell_type": "markdown",
   "metadata": {},
   "source": [
    "### Regular perceptron"
   ]
  },
  {
   "cell_type": "code",
   "execution_count": 8,
   "metadata": {
    "collapsed": false
   },
   "outputs": [
    {
     "data": {
      "text/plain": [
       "array([ 606.139521,  432.104409,  285.106062,  297.065196,  280.815102,\n",
       "        289.482297,  274.082505,  422.953713,  276.683301,  499.11159 ,\n",
       "        279.929796,  400.439325,  277.890516,  444.535866,  489.853938,\n",
       "        275.019225,  469.146744,  453.711327,  273.672306,  281.760915,\n",
       "        408.164151,  298.688094,  288.772134,  265.534653,  277.679397,\n",
       "        268.36293 ,  288.929082,  336.760827,  338.973021,  290.760453,\n",
       "        430.915659,  366.433137,  260.957778,  276.964329,  279.903555,\n",
       "        288.826521,  403.524498,  436.493814,  281.314353,  277.492206,\n",
       "        272.581605,  275.642601,  282.015756,  288.184458,  269.271132,\n",
       "        321.696468,  249.548715,  287.874354,  276.19812 ,  435.758532,\n",
       "        288.416805,  285.88734 ,  280.336749,  456.162555,  276.069846,\n",
       "        286.78917 ,  281.739432,  277.520337,  279.989538,  275.122434,\n",
       "        282.207699,  295.468731,  377.506497,  267.878319,  335.091168,\n",
       "        270.44613 ,  324.05244 ,  278.820402,  289.447668,  348.048915,\n",
       "        276.310461,  291.17088 ,  263.557341,  282.45255 ,  275.115951,\n",
       "        281.179443,  353.597772,  273.065715,  281.892912,  352.52073 ,\n",
       "        282.94059 ,  292.26867 ,  287.213616,  274.493622,  278.713125,\n",
       "        348.957597,  282.544554,  270.306921,  289.162149,  269.932185,\n",
       "        285.153348,  298.642842,  290.775558,  483.014208,  278.985135,\n",
       "        285.341091,  281.077773,  259.631688,  284.070282,  477.205332,\n",
       "        272.118123,  412.101618,  286.963905,  517.708377,  517.481505,\n",
       "        390.211071,  287.991471,  288.998055,  283.480659,  490.239024,\n",
       "        266.7444  ,  274.106556,  316.822761,  264.187377,  272.761227,\n",
       "        276.385089,  272.632515,  466.804677,  390.643671,  306.375837,\n",
       "        453.790938,  288.146001,  344.335551,  163.880511,  405.032037,\n",
       "        281.715894,  185.331453,  395.017692,  409.097046,  389.070891,\n",
       "        366.67023 ,  277.837305,  280.308915,  274.56147 ,  280.54158 ,\n",
       "        277.546308,  366.744177,  273.637959,  332.29617 ,  476.071185,\n",
       "        284.785863,  504.910572,  288.548712,  290.206521,  278.238879,\n",
       "        280.53153 ,  284.492631,  280.443297,  293.071011,  254.980638,\n",
       "        448.984842,  264.288114,  279.966582,  265.259205,  295.551264,\n",
       "        282.714783,  273.265008,  400.45455 ,  281.661792,  283.889148,\n",
       "        302.532345,  289.553538,  459.656283,  282.221514,  285.49047 ,\n",
       "        413.756298,  274.878492,  343.67205 ,  415.341852,  248.677341,\n",
       "        444.663333,  371.803131,  277.46421 ,  295.24677 ,  273.203814,\n",
       "        295.289781,  272.612946,  353.983542,  297.640173,  275.174937,\n",
       "        387.970764,  436.624401,  276.532599,  406.139733,  271.329192,\n",
       "        261.901182,  285.16098 ,  308.160741,  345.923775,  230.922378])"
      ]
     },
     "execution_count": 8,
     "metadata": {},
     "output_type": "execute_result"
    }
   ],
   "source": [
    "p = Perceptron()\n",
    "p.train(X_z, y_z)\n",
    "p.predict_proba(X_z)"
   ]
  },
  {
   "cell_type": "code",
   "execution_count": 9,
   "metadata": {
    "collapsed": false
   },
   "outputs": [
    {
     "data": {
      "text/plain": [
       "(190, 256)"
      ]
     },
     "execution_count": 9,
     "metadata": {},
     "output_type": "execute_result"
    }
   ],
   "source": [
    "X_z.shape"
   ]
  },
  {
   "cell_type": "code",
   "execution_count": 10,
   "metadata": {
    "collapsed": false
   },
   "outputs": [],
   "source": [
    "### Polynomial Kernel\n",
    "d = 4\n",
    "p_4 = KernelPerceptron(kernel=polynomial_kernel, k_params=d)\n",
    "p_4.train(X_z, y_z)"
   ]
  },
  {
   "cell_type": "code",
   "execution_count": 13,
   "metadata": {
    "collapsed": false
   },
   "outputs": [
    {
     "data": {
      "text/plain": [
       "array([ 1.,  1.,  1.,  1.,  1.,  1.,  1.,  1.,  1.,  1.,  1.,  1.,  1.,\n",
       "        1.,  1.,  1.,  1.,  1.,  1.,  1.,  1.,  1.,  1.,  1.,  1.,  1.,\n",
       "        1.,  1.,  1.,  1.,  1.,  1.,  1.,  1.,  1.,  1.,  1.,  1.,  1.,\n",
       "        1.,  1.,  1.,  1.,  1.,  1.,  1.,  1.,  1.,  1.,  1.,  1.,  1.,\n",
       "        1.,  1.,  1.,  1.,  1.,  1.,  1.,  1.,  1.,  1.,  1.,  1.,  1.,\n",
       "        1.,  1.,  1.,  1.,  1.,  1.,  1.,  1.,  1.,  1.,  1.,  1.,  1.,\n",
       "        1.,  1.,  1.,  1.,  1.,  1.,  1.,  1.,  1.,  1.,  1.,  1.,  1.,\n",
       "        1.,  1.,  1.,  1.,  1.,  1.,  1.,  1.,  1.,  1.,  1.,  1.,  1.,\n",
       "        1.,  1.,  1.,  1.,  1.,  1.,  1.,  1.,  1.,  1.,  1.,  1.,  1.,\n",
       "        1.,  1.,  1.,  1.,  1.,  1.,  1.,  1.,  1.,  1.,  1.,  1.,  1.,\n",
       "        1.,  1.,  1.,  1.,  1.,  1.,  1.,  1.,  1.,  1.,  1.,  1.,  1.,\n",
       "        1.,  1.,  1.,  1.,  1.,  1.,  1.,  1.,  1.,  1.,  1.,  1.,  1.,\n",
       "        1.,  1.,  1.,  1.,  1.,  1.,  1.,  1.,  1.,  1.,  1.,  1.,  1.,\n",
       "        1.,  1.,  1.,  1.,  1.,  1.,  1.,  1.,  1.,  1.,  1.,  1.,  1.,\n",
       "        1.,  1.,  1.,  1.,  1.,  1.,  1.,  1.])"
      ]
     },
     "execution_count": 13,
     "metadata": {},
     "output_type": "execute_result"
    }
   ],
   "source": [
    "p_4.predict(X_z)"
   ]
  },
  {
   "cell_type": "code",
   "execution_count": null,
   "metadata": {
    "collapsed": true
   },
   "outputs": [],
   "source": []
  }
 ],
 "metadata": {
  "kernelspec": {
   "display_name": "Python 3",
   "language": "python",
   "name": "python3"
  },
  "language_info": {
   "codemirror_mode": {
    "name": "ipython",
    "version": 3
   },
   "file_extension": ".py",
   "mimetype": "text/x-python",
   "name": "python",
   "nbconvert_exporter": "python",
   "pygments_lexer": "ipython3",
   "version": "3.6.0"
  }
 },
 "nbformat": 4,
 "nbformat_minor": 2
}
