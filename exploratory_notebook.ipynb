{
 "cells": [
  {
   "cell_type": "markdown",
   "metadata": {},
   "source": [
    "# Coursework 2\n",
    "(core codebase to be imported as modules)"
   ]
  },
  {
   "cell_type": "code",
   "execution_count": 71,
   "metadata": {
    "collapsed": true
   },
   "outputs": [],
   "source": [
    "import numpy as np\n",
    "\n",
    "from perceptron import Perceptron, KernelPerceptron\n",
    "from kernels import polynomial_kernel, radial_basis_kernel\n",
    "from utilities import train_test_split, data_split, y_encode"
   ]
  },
  {
   "cell_type": "code",
   "execution_count": 2,
   "metadata": {
    "collapsed": false
   },
   "outputs": [],
   "source": [
    "# Loading Data\n",
    "data = np.loadtxt(\"dtrain123.dat\")\n",
    "y = data[:, 0]\n",
    "X = data[:, 1:]"
   ]
  },
  {
   "cell_type": "code",
   "execution_count": 3,
   "metadata": {
    "collapsed": false
   },
   "outputs": [],
   "source": [
    "# Build test XOR dataset\n",
    "a = np.array([[1,1], [-1,-1], [-1,1], [1,-1]])\n",
    "b = np.array([1,1,-1,-1])"
   ]
  },
  {
   "cell_type": "code",
   "execution_count": 4,
   "metadata": {
    "collapsed": false
   },
   "outputs": [
    {
     "data": {
      "text/plain": [
       "array([ 0.,  0.,  0.,  0.])"
      ]
     },
     "execution_count": 4,
     "metadata": {},
     "output_type": "execute_result"
    }
   ],
   "source": [
    "# Run for regular unkernalised perceptron\n",
    "p = Perceptron()\n",
    "p.train(a, b)\n",
    "p.predict(a)"
   ]
  },
  {
   "cell_type": "code",
   "execution_count": 5,
   "metadata": {
    "collapsed": false
   },
   "outputs": [
    {
     "data": {
      "text/plain": [
       "array([ 4.,  4., -4., -4.])"
      ]
     },
     "execution_count": 5,
     "metadata": {},
     "output_type": "execute_result"
    }
   ],
   "source": [
    "# Run for 2-order polynomial kernel\n",
    "p_2 = KernelPerceptron(polynomial_kernel, 2)\n",
    "p_2.train(a,b)\n",
    "p_2.predict_proba(a)"
   ]
  },
  {
   "cell_type": "code",
   "execution_count": 6,
   "metadata": {
    "collapsed": false
   },
   "outputs": [
    {
     "data": {
      "text/plain": [
       "array([[4, 4, 0, 0],\n",
       "       [4, 4, 0, 0],\n",
       "       [0, 0, 4, 4],\n",
       "       [0, 0, 4, 4]])"
      ]
     },
     "execution_count": 6,
     "metadata": {},
     "output_type": "execute_result"
    }
   ],
   "source": [
    "p_2.gram"
   ]
  },
  {
   "cell_type": "markdown",
   "metadata": {},
   "source": [
    "## Test for differentiating between 1s and 3s"
   ]
  },
  {
   "cell_type": "code",
   "execution_count": 7,
   "metadata": {
    "collapsed": false
   },
   "outputs": [
    {
     "name": "stdout",
     "output_type": "stream",
     "text": [
      "120 70\n"
     ]
    }
   ],
   "source": [
    "idx = y!=2\n",
    "X_z = X[idx,:]\n",
    "y_z = y[idx]\n",
    "y_z = (y_z == 1).astype(int) - (y_z == 3).astype(int)\n",
    "n_1 = sum(y==1)\n",
    "n_3 = sum(y==3)\n",
    "print(n_1, n_3)"
   ]
  },
  {
   "cell_type": "markdown",
   "metadata": {},
   "source": [
    "### Regular perceptron"
   ]
  },
  {
   "cell_type": "code",
   "execution_count": 8,
   "metadata": {
    "collapsed": false
   },
   "outputs": [],
   "source": [
    "p = Perceptron()\n",
    "p.train(X_z, y_z)"
   ]
  },
  {
   "cell_type": "code",
   "execution_count": 10,
   "metadata": {
    "collapsed": false
   },
   "outputs": [
    {
     "data": {
      "text/plain": [
       "1.0"
      ]
     },
     "execution_count": 10,
     "metadata": {},
     "output_type": "execute_result"
    }
   ],
   "source": [
    "p.predict(X_z).dot(y_z)/len(y_z)"
   ]
  },
  {
   "cell_type": "code",
   "execution_count": 11,
   "metadata": {
    "collapsed": false
   },
   "outputs": [
    {
     "data": {
      "text/plain": [
       "190.0"
      ]
     },
     "execution_count": 11,
     "metadata": {},
     "output_type": "execute_result"
    }
   ],
   "source": [
    "p.predict(X_z).dot(y_z)"
   ]
  },
  {
   "cell_type": "code",
   "execution_count": 12,
   "metadata": {
    "collapsed": false
   },
   "outputs": [
    {
     "data": {
      "text/plain": [
       "(190, 256)"
      ]
     },
     "execution_count": 12,
     "metadata": {},
     "output_type": "execute_result"
    }
   ],
   "source": [
    "X_z.shape"
   ]
  },
  {
   "cell_type": "code",
   "execution_count": 13,
   "metadata": {
    "collapsed": false
   },
   "outputs": [
    {
     "name": "stdout",
     "output_type": "stream",
     "text": [
      "1 : 1.0\n",
      "2 : 1.0\n",
      "3 : 1.0\n",
      "4 : 1.0\n"
     ]
    }
   ],
   "source": [
    "### Polynomial Kernel\n",
    "for d in range(1,5):\n",
    "    p_k = KernelPerceptron(kernel=polynomial_kernel, k_params=d)\n",
    "    p_k.train(X_z, y_z)\n",
    "    error = p_k.predict(X_z).dot(y_z)/len(y_z)\n",
    "    print(\"{} : {}\".format(d, error))"
   ]
  },
  {
   "cell_type": "markdown",
   "metadata": {},
   "source": [
    "## DT's code"
   ]
  },
  {
   "cell_type": "markdown",
   "metadata": {},
   "source": [
    "from utilities import preprocessing, train_test_split,y_encode,data_split"
   ]
  },
  {
   "cell_type": "code",
   "execution_count": 14,
   "metadata": {
    "collapsed": true
   },
   "outputs": [],
   "source": [
    "data = np.loadtxt(\"zipcombo.dat\")"
   ]
  },
  {
   "cell_type": "code",
   "execution_count": 21,
   "metadata": {
    "collapsed": false
   },
   "outputs": [
    {
     "data": {
      "text/plain": [
       "(9298, 257)"
      ]
     },
     "execution_count": 21,
     "metadata": {},
     "output_type": "execute_result"
    }
   ],
   "source": [
    "data.shape"
   ]
  },
  {
   "cell_type": "markdown",
   "metadata": {},
   "source": [
    "This will be a one vs all scenario."
   ]
  },
  {
   "cell_type": "code",
   "execution_count": 79,
   "metadata": {
    "collapsed": false
   },
   "outputs": [
    {
     "name": "stdout",
     "output_type": "stream",
     "text": [
      "[ 113.]\n",
      "CPU times: user 4.26 s, sys: 455 ms, total: 4.71 s\n",
      "Wall time: 3.51 s\n"
     ]
    }
   ],
   "source": [
    "%%time\n",
    "# first class is zero\n",
    "\n",
    "# matrix to hold predictions\n",
    "\n",
    "\n",
    "X,y = data_split(data,y_col=0)\n",
    "X_train,X_test,y_train,y_test = train_test_split(X,y,seed=3)\n",
    "\n",
    "predictions = np.zeros((X_test.shape[0],10))\n",
    "\n",
    "\n",
    "y_train_i = y_encode(y_train,0)\n",
    "\n",
    "P = KernelPerceptron(polynomial_kernel, k_params=2) # quadratic kernel\n",
    "P.train(X_train,y_train_i)\n",
    "print(P.M)\n",
    "predictions[:,0] = P.predict_proba(X_test)"
   ]
  },
  {
   "cell_type": "code",
   "execution_count": 80,
   "metadata": {
    "collapsed": false
   },
   "outputs": [
    {
     "name": "stdout",
     "output_type": "stream",
     "text": [
      "CPU times: user 5 µs, sys: 1 µs, total: 6 µs\n",
      "Wall time: 11.2 µs\n",
      "[-1 -1 -1 -1 -1 -1  1 -1  1 -1]\n",
      "0\n",
      "[ 67.]\n",
      "[-1 -1 -1 -1 -1 -1 -1 -1 -1 -1]\n",
      "0\n",
      "[ 170.]\n",
      "[-1 -1 -1 -1 -1 -1 -1  1 -1 -1]\n",
      "0\n",
      "[ 169.]\n",
      "[-1 -1 -1  1 -1 -1 -1 -1 -1 -1]\n",
      "0\n",
      "[ 195.]\n",
      "[-1 -1  1 -1 -1 -1 -1 -1 -1 -1]\n",
      "0\n",
      "[ 177.]\n",
      "[-1 -1 -1 -1 -1  1 -1 -1 -1 -1]\n",
      "0\n",
      "[ 132.]\n",
      "[-1  1 -1 -1 -1 -1 -1 -1 -1  1]\n",
      "0\n",
      "[ 126.]\n",
      "[-1 -1 -1 -1 -1 -1 -1 -1 -1 -1]\n",
      "0\n",
      "[ 212.]\n",
      "[-1 -1 -1 -1  1 -1 -1 -1 -1 -1]\n",
      "0\n",
      "[ 219.]\n"
     ]
    }
   ],
   "source": [
    "%time\n",
    "for i in range(1,10):\n",
    "    y_train_i = y_encode(y_train,i)\n",
    "    print(y_train_i[0:10])\n",
    "    P = KernelPerceptron(polynomial_kernel, k_params=2) # quadratic kernel\n",
    "    print(P.M)\n",
    "    P.train(X_train,y_train_i)\n",
    "    print(P.M)\n",
    "    predictions[:,i] = P.predict_proba(X_test)"
   ]
  },
  {
   "cell_type": "code",
   "execution_count": 81,
   "metadata": {
    "collapsed": true
   },
   "outputs": [],
   "source": [
    "preds = np.argmax(predictions,axis=1)"
   ]
  },
  {
   "cell_type": "code",
   "execution_count": 83,
   "metadata": {
    "collapsed": false
   },
   "outputs": [
    {
     "data": {
      "text/plain": [
       "(3100,)"
      ]
     },
     "execution_count": 83,
     "metadata": {},
     "output_type": "execute_result"
    }
   ],
   "source": [
    "preds.shape"
   ]
  },
  {
   "cell_type": "code",
   "execution_count": 86,
   "metadata": {
    "collapsed": false
   },
   "outputs": [
    {
     "data": {
      "text/plain": [
       "array([[-60320.02714077,  27614.18052106, -82780.94313469, -41779.40487842,\n",
       "        -45979.4198174 , -35621.94251204, -49939.80421103, -84824.6280945 ,\n",
       "        -75699.25437149, -41698.6615646 ],\n",
       "       [-62447.91388161,  52886.4057866 , -74525.1036188 , -61937.64626742,\n",
       "        -51193.9452106 , -47064.60382842, -33251.43309396, -72275.32760312,\n",
       "        -99674.5636128 , -46691.68444866],\n",
       "       [-22893.1468252 , -64782.40568071, -45348.23520323, -37275.72406586,\n",
       "        -13366.19013453, -31805.80254775, -37368.8313287 , -56356.68295584,\n",
       "        -38933.1474884 , -24069.54631964],\n",
       "       [-33891.43956923, -74985.00855432, -63511.32107652, -48670.54023377,\n",
       "        -68615.3780766 , -45103.31862861, -57337.48343712, -93939.62380212,\n",
       "         19459.51674215, -14095.78600147],\n",
       "       [-43086.08813015, -20536.33397904, -40535.56199513, -49262.90595434,\n",
       "        -61034.71709711, -37599.02131695, -14660.46173554,  10683.14560147,\n",
       "        -61247.08656483, -19996.65974356],\n",
       "       [-15948.38206199, -64598.50361602, -88377.74296545, -83728.67924684,\n",
       "        -72238.03481569, -37941.23607637,  24375.44021587, -99048.58585975,\n",
       "        -68540.85538753, -80445.35829759],\n",
       "       [-31100.30832096, -30636.66724398, -44042.31818396, -53786.61161837,\n",
       "         16054.68123041, -31280.04135285, -33337.94160388, -69963.14257116,\n",
       "        -55932.8231463 , -36443.05319027],\n",
       "       [-30938.17176082, -64664.9457859 , -67392.39914638, -46142.32799369,\n",
       "        -93495.30437251, -27919.64340028, -31818.85583759, -78811.96500655,\n",
       "         25711.28000129, -47019.16262929],\n",
       "       [-37244.27801352, -26116.3107832 , -40998.3487125 , -39192.06763725,\n",
       "        -25940.57400951,  15737.76109948, -21256.1401788 , -53624.68086014,\n",
       "        -36104.42117657, -27326.44550075]])"
      ]
     },
     "execution_count": 86,
     "metadata": {},
     "output_type": "execute_result"
    }
   ],
   "source": [
    "predictions[1:10, :]"
   ]
  },
  {
   "cell_type": "code",
   "execution_count": 87,
   "metadata": {
    "collapsed": false
   },
   "outputs": [
    {
     "data": {
      "text/plain": [
       "0.94290322580645158"
      ]
     },
     "execution_count": 87,
     "metadata": {},
     "output_type": "execute_result"
    }
   ],
   "source": [
    "# Success \n",
    "(preds == y_test).mean()"
   ]
  },
  {
   "cell_type": "code",
   "execution_count": 91,
   "metadata": {
    "collapsed": false
   },
   "outputs": [
    {
     "data": {
      "text/plain": [
       "array([1, 1, 4, 8, 7, 6, 4, 8, 5, 9, 1, 4, 7, 0, 1, 0, 8, 1, 2, 2, 6, 6, 0,\n",
       "       6, 3, 0, 0, 8, 8])"
      ]
     },
     "execution_count": 91,
     "metadata": {},
     "output_type": "execute_result"
    }
   ],
   "source": [
    "preds[1:30]"
   ]
  },
  {
   "cell_type": "code",
   "execution_count": 92,
   "metadata": {
    "collapsed": false
   },
   "outputs": [
    {
     "data": {
      "text/plain": [
       "array([ 1.,  1.,  4.,  8.,  7.,  6.,  4.,  8.,  5.,  9.,  1.,  4.,  7.,\n",
       "        0.,  1.,  0.,  8.,  1.,  2.])"
      ]
     },
     "execution_count": 92,
     "metadata": {},
     "output_type": "execute_result"
    }
   ],
   "source": [
    "y_test[1:20]"
   ]
  },
  {
   "cell_type": "code",
   "execution_count": 89,
   "metadata": {
    "collapsed": false
   },
   "outputs": [
    {
     "data": {
      "text/plain": [
       "array([ True,  True,  True, ...,  True,  True,  True], dtype=bool)"
      ]
     },
     "execution_count": 89,
     "metadata": {},
     "output_type": "execute_result"
    }
   ],
   "source": [
    "preds == y_test"
   ]
  }
 ],
 "metadata": {
  "kernelspec": {
   "display_name": "Python 3",
   "language": "python",
   "name": "python3"
  },
  "language_info": {
   "codemirror_mode": {
    "name": "ipython",
    "version": 3
   },
   "file_extension": ".py",
   "mimetype": "text/x-python",
   "name": "python",
   "nbconvert_exporter": "python",
   "pygments_lexer": "ipython3",
   "version": "3.6.0"
  }
 },
 "nbformat": 4,
 "nbformat_minor": 2
}
